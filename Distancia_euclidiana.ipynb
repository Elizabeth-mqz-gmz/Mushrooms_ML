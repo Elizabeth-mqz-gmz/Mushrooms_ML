{
 "cells": [
  {
   "cell_type": "code",
   "execution_count": 1,
   "metadata": {},
   "outputs": [
    {
     "name": "stdout",
     "output_type": "stream",
     "text": [
      "[1 0 1 0 1]\n",
      "[1 1 0 0 1]\n",
      "[0 0 0 1 1]\n"
     ]
    }
   ],
   "source": [
    "import numpy as np\n",
    "from numpy.linalg import norm\n",
    "\n",
    "d1 = np.array([1, 0, 1, 0, 1])\n",
    "d2 = np.array([1, 1, 0, 0, 1])\n",
    "d3 = np.array([0, 0, 0, 1, 1])\n",
    "print(d1)\n",
    "print(d2)\n",
    "print(d3)"
   ]
  },
  {
   "cell_type": "code",
   "execution_count": 2,
   "metadata": {},
   "outputs": [
    {
     "name": "stdout",
     "output_type": "stream",
     "text": [
      "Distancia euclidiana entre d1 y d2: 1.4142135623730951\n"
     ]
    }
   ],
   "source": [
    "dist_e = norm(d2-d1)\n",
    "print(\"Distancia euclidiana entre d1 y d2: {}\".format(dist_e))"
   ]
  },
  {
   "cell_type": "code",
   "execution_count": 3,
   "metadata": {},
   "outputs": [
    {
     "name": "stdout",
     "output_type": "stream",
     "text": [
      "Distancia euclidiana entre d1 y d3: 1.7320508075688772\n"
     ]
    }
   ],
   "source": [
    "dist_e = norm(d2-d3)\n",
    "print(\"Distancia euclidiana entre d1 y d3: {}\".format(dist_e))"
   ]
  },
  {
   "cell_type": "code",
   "execution_count": null,
   "metadata": {},
   "outputs": [],
   "source": []
  }
 ],
 "metadata": {
  "kernelspec": {
   "display_name": "Python 3",
   "language": "python",
   "name": "python3"
  },
  "language_info": {
   "codemirror_mode": {
    "name": "ipython",
    "version": 3
   },
   "file_extension": ".py",
   "mimetype": "text/x-python",
   "name": "python",
   "nbconvert_exporter": "python",
   "pygments_lexer": "ipython3",
   "version": "3.8.5"
  }
 },
 "nbformat": 4,
 "nbformat_minor": 5
}

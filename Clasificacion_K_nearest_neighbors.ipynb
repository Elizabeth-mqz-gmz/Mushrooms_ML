{
 "cells": [
  {
   "cell_type": "code",
   "execution_count": 2,
   "metadata": {},
   "outputs": [
    {
     "name": "stdout",
     "output_type": "stream",
     "text": [
      ".. _iris_dataset:\n",
      "\n",
      "Iris plants dataset\n",
      "--------------------\n",
      "\n",
      "**Data Set Characteristics:**\n",
      "\n",
      "    :Number of Instances: 150 (50 in each of three classes)\n",
      "    :Number of Attributes: 4 numeric, predictive attributes and the class\n",
      "    :Attribute Information:\n",
      "        - sepal length in cm\n",
      "        - sepal width in cm\n",
      "        - petal length in cm\n",
      "        - petal width in cm\n",
      "        - class:\n",
      "                - Iris-Setosa\n",
      "                - Iris-Versicolour\n",
      "                - Iris-Virginica\n",
      "                \n",
      "    :Summary Statistics:\n",
      "\n",
      "    ============== ==== ==== ======= ===== ====================\n",
      "                    Min  Max   Mean    SD   Class Correlation\n",
      "    ============== ==== ==== ======= ===== ====================\n",
      "    sepal length:   4.3  7.9   5.84   0.83    0.7826\n",
      "    sepal width:    2.0  4.4   3.05   0.43   -0.4194\n",
      "    petal length:   1.0  6.9   3.76   1.76    0.9490  (high!)\n",
      "    petal width:    0.1  2.5   1.20   0.76    0.9565  (high!)\n",
      "    ============== ==== ==== ======= ===== ====================\n",
      "\n",
      "    :Missing Attribute Values: None\n",
      "    :Class Distribution: 33.3% for each of 3 classes.\n",
      "    :Creator: R.A. Fisher\n",
      "    :Donor: Michael Marshall (MARSHALL%PLU@io.arc.nasa.gov)\n",
      "    :Date: July, 1988\n",
      "\n",
      "The famous Iris database, first used by Sir R.A. Fisher. The dataset is taken\n",
      "from Fisher's paper. Note that it's the same as in R, but not as in the UCI\n",
      "Machine Learning Repository, which has two wrong data points.\n",
      "\n",
      "This is perhaps the best known database to be found in the\n",
      "pattern recognition literature.  Fisher's paper is a classic in the field and\n",
      "is referenced frequently to this day.  (See Duda & Hart, for example.)  The\n",
      "data set contains 3 classes of 50 instances each, where each class refers to a\n",
      "type of iris plant.  One class is linearly separable from the other 2; the\n",
      "latter are NOT linearly separable from each other.\n",
      "\n",
      ".. topic:: References\n",
      "\n",
      "   - Fisher, R.A. \"The use of multiple measurements in taxonomic problems\"\n",
      "     Annual Eugenics, 7, Part II, 179-188 (1936); also in \"Contributions to\n",
      "     Mathematical Statistics\" (John Wiley, NY, 1950).\n",
      "   - Duda, R.O., & Hart, P.E. (1973) Pattern Classification and Scene Analysis.\n",
      "     (Q327.D83) John Wiley & Sons.  ISBN 0-471-22361-1.  See page 218.\n",
      "   - Dasarathy, B.V. (1980) \"Nosing Around the Neighborhood: A New System\n",
      "     Structure and Classification Rule for Recognition in Partially Exposed\n",
      "     Environments\".  IEEE Transactions on Pattern Analysis and Machine\n",
      "     Intelligence, Vol. PAMI-2, No. 1, 67-71.\n",
      "   - Gates, G.W. (1972) \"The Reduced Nearest Neighbor Rule\".  IEEE Transactions\n",
      "     on Information Theory, May 1972, 431-433.\n",
      "   - See also: 1988 MLC Proceedings, 54-64.  Cheeseman et al\"s AUTOCLASS II\n",
      "     conceptual clustering system finds 3 classes in the data.\n",
      "   - Many, many more ...\n"
     ]
    }
   ],
   "source": [
    "## ML library -> sklearn\n",
    "from sklearn.datasets import load_iris\n",
    "\n",
    "iris = load_iris()\n",
    "print(iris.DESCR)"
   ]
  },
  {
   "cell_type": "code",
   "execution_count": 4,
   "metadata": {},
   "outputs": [
    {
     "name": "stdout",
     "output_type": "stream",
     "text": [
      "[[5.1 3.5 1.4 0.2]\n",
      " [4.9 3.  1.4 0.2]\n",
      " [4.7 3.2 1.3 0.2]\n",
      " [4.6 3.1 1.5 0.2]\n",
      " [5.  3.6 1.4 0.2]]\n",
      "[0 0 0 0 0]\n",
      "[1 2 2 2 2 1 2 1 1 2 2 2 2 1 2 1 0 2 1 1 1 1 2 0 0 2 1 0 0 1 0 2 1 0 1 2 1\n",
      " 0 2 2 2 2 0 0 2 2 0 2 0 2 2 0 0 2 0 0 0 1 2 2 0 0 0 1 1 0 0 1 0 2 1 2 1 0\n",
      " 2 0 2 0 0 2 0 2 1 1 1 2 2 1 1 0 1 2 2 0 1 1 1 1 0 0 0 2 1 2 0]\n",
      "[2 1 0 2 0 2 0 1 1 1 2 1 1 1 1 0 1 1 0 0 2 1 0 0 2 0 0 1 1 0 2 1 0 2 2 1 0\n",
      " 1 1 1 2 0 2 0 0]\n"
     ]
    }
   ],
   "source": [
    "from sklearn.model_selection import train_test_split\n",
    "\n",
    "# Leemos conjunto de ejemplos\n",
    "X = iris.data\n",
    "print(X[:5])\n",
    "# Leemos valores de clase para cada ejemplo\n",
    "y = iris.target\n",
    "print(y[:5])\n",
    "# Separamos el dataset en dos: entrenamiento y evaluación\n",
    "X_train, X_test, y_train, y_test = train_test_split(X, y, test_size=0.30, random_state=0)\n",
    "print(y_train)\n",
    "print(y_test)"
   ]
  },
  {
   "cell_type": "code",
   "execution_count": 33,
   "metadata": {},
   "outputs": [
    {
     "name": "stdout",
     "output_type": "stream",
     "text": [
      "KNeighborsClassifier(n_neighbors=41)\n",
      "[[5.8 2.8 5.1 2.4]\n",
      " [6.  2.2 4.  1. ]\n",
      " [5.5 4.2 1.4 0.2]\n",
      " [7.3 2.9 6.3 1.8]\n",
      " [5.  3.4 1.5 0.2]]\n",
      "[2 1 0 2 0]\n",
      "[2]\n"
     ]
    }
   ],
   "source": [
    "from sklearn.neighbors import KNeighborsClassifier\n",
    "\n",
    "# Clasificación K Nearest neighbors \n",
    "k = 41\n",
    "# Definición del clasificador\n",
    "classifier = KNeighborsClassifier(n_neighbors=k)\n",
    "# Entrenamiento del clasificador con lo datos de entrenamiento y valores de clase para cada ejemplo\n",
    "classifier.fit(X_train, y_train)\n",
    "# Predicción con el clasificador entrenado en los datos de evaluación \n",
    "y_predict = classifier.predict(X_test)\n",
    "\n",
    "print(classifier)\n",
    "print(X_test[:5])\n",
    "print(y_predict[:5])\n",
    "print(classifier.predict([[10.0, 5.0, 7.8, 0.1]]))\n"
   ]
  },
  {
   "cell_type": "code",
   "execution_count": 34,
   "metadata": {},
   "outputs": [
    {
     "name": "stdout",
     "output_type": "stream",
     "text": [
      "[2 1 0 2 0]\n",
      "[2 1 0 2 0]\n",
      "Accuracy: 0.8888888888888888\n",
      "Precision: 0.8774509803921569\n",
      "Recall: 0.883838383838384\n",
      "F-score: 0.8799171842650103\n"
     ]
    }
   ],
   "source": [
    "# Medidas de rendimiento del clasificador\n",
    "from sklearn.metrics import accuracy_score\n",
    "from sklearn.metrics import f1_score\n",
    "from sklearn.metrics import precision_score\n",
    "from sklearn.metrics import recall_score\n",
    "\n",
    "print(y_test[:5])\n",
    "print(y_predict[:5])\n",
    "\n",
    "print(\"Accuracy: {}\".format(accuracy_score(y_test, y_predict)))\n",
    "print(\"Precision: {}\".format(precision_score(y_test, y_predict, average=\"macro\")))\n",
    "print(\"Recall: {}\".format(recall_score(y_test, y_predict, average=\"macro\")))\n",
    "print(\"F-score: {}\".format(f1_score(y_test, y_predict, average=\"macro\")))"
   ]
  },
  {
   "cell_type": "code",
   "execution_count": 35,
   "metadata": {},
   "outputs": [
    {
     "name": "stdout",
     "output_type": "stream",
     "text": [
      "                  precision    recall  f1-score   support\n",
      "\n",
      "     Iris-Setosa       1.00      1.00      1.00        16\n",
      "Iris-Versicolour       0.88      0.83      0.86        18\n",
      "  Iris-Virginica       0.75      0.82      0.78        11\n",
      "\n",
      "        accuracy                           0.89        45\n",
      "       macro avg       0.88      0.88      0.88        45\n",
      "    weighted avg       0.89      0.89      0.89        45\n",
      "\n"
     ]
    }
   ],
   "source": [
    "from sklearn.metrics import classification_report\n",
    "\n",
    "target_names = ['Iris-Setosa', 'Iris-Versicolour', 'Iris-Virginica']\n",
    "print(classification_report(y_test, y_predict, target_names=target_names))"
   ]
  },
  {
   "cell_type": "code",
   "execution_count": 36,
   "metadata": {},
   "outputs": [
    {
     "name": "stdout",
     "output_type": "stream",
     "text": [
      "[[16  0  0]\n",
      " [ 0 15  3]\n",
      " [ 0  2  9]]\n"
     ]
    },
    {
     "data": {
      "text/plain": [
       "<sklearn.metrics._plot.confusion_matrix.ConfusionMatrixDisplay at 0x117e43070>"
      ]
     },
     "execution_count": 36,
     "metadata": {},
     "output_type": "execute_result"
    },
    {
     "data": {
      "image/png": "[encoded data removed]",
      "text/plain": [
       "<Figure size 432x288 with 2 Axes>"
      ]
     },
     "metadata": {
      "needs_background": "light"
     },
     "output_type": "display_data"
    }
   ],
   "source": [
    "from sklearn.metrics import confusion_matrix\n",
    "import matplotlib.pyplot as plt\n",
    "from sklearn.metrics import plot_confusion_matrix\n",
    "\n",
    "print(confusion_matrix(y_test, y_predict))\n",
    "plot_confusion_matrix(classifier, X_test, y_test, cmap=plt.cm.Blues, \n",
    "                      display_labels=['Iris-Setosa', 'Iris-Versicolour', 'Iris-Virginica'])  "
   ]
  },
  {
   "cell_type": "code",
   "execution_count": 37,
   "metadata": {},
   "outputs": [
    {
     "name": "stdout",
     "output_type": "stream",
     "text": [
      "[2]\n",
      "[[0.         0.19512195 0.80487805]]\n",
      "(array([[3.37934905, 3.51425668, 3.86652299, 3.89871774, 4.08656335,\n",
      "        4.12553027, 4.1484937 , 4.21070065, 4.25323406, 4.29534632,\n",
      "        4.47437146, 4.68294779, 4.70106371, 4.71062629, 4.79374593,\n",
      "        4.85180379, 4.85695378, 4.89387372, 4.90204039, 4.94267134,\n",
      "        4.96286208, 4.96588361, 5.02891638, 5.0823223 , 5.13614642,\n",
      "        5.13711982, 5.14684369, 5.15945734, 5.16139516, 5.22398315,\n",
      "        5.25357021, 5.25832673, 5.26687763, 5.26782688, 5.27067358,\n",
      "        5.33291665, 5.36749476, 5.5027266 , 5.50545184, 5.56686626,\n",
      "        5.56956013]]), array([[ 71, 103,  76,  59,  69,   6,  22,  79,  53,  35,  38,  58,  39,\n",
      "         45,  50,  13,  29,   2,   4,   1,  91,  40,  88, 101,  81,  44,\n",
      "         86,  14,  41,  85,  47,  94,  25,  72,  10,   7,  64,   9,  87,\n",
      "         31,  12]]))\n"
     ]
    }
   ],
   "source": [
    "# Predecir valor de clase de nuevo ejemplo\n",
    "print(classifier.predict([[10.0, 5.0, 7.8, 0.1]]))\n",
    "\n",
    "# Predecir probabilidad de clases de nuevo ejemplo\n",
    "print(classifier.predict_proba([[10.0, 5.0, 7.8, 0.1]]))\n",
    "\n",
    "#Predecir probabilidad de clases de nuevo ejemplo\n",
    "print(classifier.kneighbors([[10.0, 5.0, 7.8, 0.1]]))"
   ]
  },
  {
   "cell_type": "code",
   "execution_count": null,
   "metadata": {},
   "outputs": [],
   "source": []
  }
 ],
 "metadata": {
  "kernelspec": {
   "display_name": "Python 3",
   "language": "python",
   "name": "python3"
  },
  "language_info": {
   "codemirror_mode": {
    "name": "ipython",
    "version": 3
   },
   "file_extension": ".py",
   "mimetype": "text/x-python",
   "name": "python",
   "nbconvert_exporter": "python",
   "pygments_lexer": "ipython3",
   "version": "3.8.5"
  }
 },
 "nbformat": 4,
 "nbformat_minor": 5
}
